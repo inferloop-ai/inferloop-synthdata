{
 "cells": [
  {
   "cell_type": "markdown",
   "metadata": {},
   "source": [
    "# Getting Started with TSIoT - IoT Synthetic Time Series Data Generation\n",
    "\n",
    "Welcome to TSIoT\! This notebook will guide you through the basics of generating, analyzing, and working with synthetic IoT time series data.\n",
    "\n",
    "## Table of Contents\n",
    "1. [Prerequisites and Setup](#prerequisites)\n",
    "2. [Generating Your First Synthetic Dataset](#generating)\n",
    "3. [Loading and Exploring Data](#exploring)\n",
    "4. [Basic Analysis and Visualization](#analysis)\n",
    "5. [Data Quality Assessment](#quality)\n",
    "6. [Using the CLI for Advanced Operations](#cli)\n",
    "7. [Next Steps](#next-steps)"
   ]
  },
  {
   "cell_type": "markdown",
   "metadata": {},
   "source": [
    "## Prerequisites and Setup {#prerequisites}\n",
    "\n",
    "Before we begin, make sure you have:\n",
    "\n",
    "1. **TSIoT installed**: Follow the installation guide in the main README\n",
    "2. **Python environment**: Python 3.8+ with required packages\n",
    "3. **Go environment**: Go 1.19+ for running the CLI tools\n",
    "\n",
    "Let's start by importing the necessary libraries and setting up our environment:"
   ]
  },
  {
   "cell_type": "code",
   "execution_count": null,
   "metadata": {},
   "outputs": [],
   "source": [
    "import json\n",
    "import pandas as pd\n",
    "import numpy as np\n",
    "import matplotlib.pyplot as plt\n",
    "import seaborn as sns\n",
    "from datetime import datetime, timedelta\n",
    "import subprocess\n",
    "import os\n",
    "\n",
    "# Set up plotting style\n",
    "plt.style.use('seaborn-v0_8')\n",
    "sns.set_palette(\"husl\")\n",
    "\n",
    "# Create output directory for this session\n",
    "output_dir = \"getting_started_output\"\n",
    "os.makedirs(output_dir, exist_ok=True)\n",
    "\n",
    "print(\"Environment setup complete\!\")\n",
    "print(f\"Output directory: {output_dir}\")"
   ]
  },
  {
   "cell_type": "markdown",
   "metadata": {},
   "source": [
    "## Generating Your First Synthetic Dataset {#generating}\n",
    "\n",
    "TSIoT provides multiple generators for creating realistic synthetic IoT data. Let's start with a simple temperature sensor dataset using the statistical generator."
   ]
  },
  {
   "cell_type": "code",
   "execution_count": null,
   "metadata": {},
   "outputs": [],
   "source": [
    "# Generate synthetic temperature data using the CLI\n",
    "temp_file = f\"{output_dir}/temperature_data.json\"\n",
    "\n",
    "cmd = [\n",
    "    \"tsiot\", \"generate\",\n",
    "    \"--generator\", \"statistical\",\n",
    "    \"--sensor-type\", \"temperature\",\n",
    "    \"--count\", \"1000\",\n",
    "    \"--frequency\", \"1m\",\n",
    "    \"--start-time\", \"2023-01-01T00:00:00Z\",\n",
    "    \"--end-time\", \"2023-01-01T16:40:00Z\",\n",
    "    \"--output\", temp_file\n",
    "]\n",
    "\n",
    "try:\n",
    "    result = subprocess.run(cmd, capture_output=True, text=True, check=True)\n",
    "    print(\"✅ Successfully generated temperature data\!\")\n",
    "    print(result.stdout)\n",
    "except subprocess.CalledProcessError as e:\n",
    "    print(f\"❌ Error generating data: {e.stderr}\")\n",
    "except FileNotFoundError:\n",
    "    print(\"❌ TSIoT CLI not found. Please ensure it's installed and in your PATH.\")"
   ]
  }
 ],
 "metadata": {
  "kernelspec": {
   "display_name": "Python 3",
   "language": "python",
   "name": "python3"
  },
  "language_info": {
   "codemirror_mode": {
    "name": "ipython",
    "version": 3
   },
   "file_extension": ".py",
   "mimetype": "text/x-python",
   "name": "python",
   "nbconvert_exporter": "python",
   "pygments_lexer": "ipython3",
   "version": "3.8.0"
  }
 },
 "nbformat": 4,
 "nbformat_minor": 4
}
EOF < /dev/null